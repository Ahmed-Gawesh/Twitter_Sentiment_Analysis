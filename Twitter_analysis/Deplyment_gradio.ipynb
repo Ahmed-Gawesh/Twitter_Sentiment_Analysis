{
 "cells": [
  {
   "cell_type": "code",
   "execution_count": 9,
   "id": "6a867558-e8d0-449a-bc99-6863bd202b34",
   "metadata": {},
   "outputs": [],
   "source": [
    "import gradio as gr\n",
    "import tensorflow as tf\n",
    "from tensorflow.keras.preprocessing.sequence import pad_sequences\n",
    "import pickle\n",
    "import re\n",
    "import nltk\n",
    "from nltk.corpus import stopwords\n",
    "from nltk.stem import WordNetLemmatizer\n",
    "import warnings\n",
    "warnings.filterwarnings('ignore')"
   ]
  },
  {
   "cell_type": "code",
   "execution_count": 8,
   "id": "97f07526-5ce6-4140-8f67-cfd95c38d06c",
   "metadata": {},
   "outputs": [
    {
     "name": "stdout",
     "output_type": "stream",
     "text": [
      "* Running on local URL:  http://127.0.0.1:7865\n",
      "* To create a public link, set `share=True` in `launch()`.\n"
     ]
    },
    {
     "data": {
      "text/html": [
       "<div><iframe src=\"http://127.0.0.1:7865/\" width=\"100%\" height=\"500\" allow=\"autoplay; camera; microphone; clipboard-read; clipboard-write;\" frameborder=\"0\" allowfullscreen></iframe></div>"
      ],
      "text/plain": [
       "<IPython.core.display.HTML object>"
      ]
     },
     "metadata": {},
     "output_type": "display_data"
    },
    {
     "data": {
      "text/plain": []
     },
     "execution_count": 8,
     "metadata": {},
     "output_type": "execute_result"
    },
    {
     "name": "stdout",
     "output_type": "stream",
     "text": [
      "\u001b[1m1/1\u001b[0m \u001b[32m━━━━━━━━━━━━━━━━━━━━\u001b[0m\u001b[37m\u001b[0m \u001b[1m1s\u001b[0m 628ms/step\n",
      "\u001b[1m1/1\u001b[0m \u001b[32m━━━━━━━━━━━━━━━━━━━━\u001b[0m\u001b[37m\u001b[0m \u001b[1m0s\u001b[0m 63ms/step\n"
     ]
    }
   ],
   "source": [
    "\n",
    "\n",
    "# Load the saved model\n",
    "model = tf.keras.models.load_model('best_model.keras')  # Your model file\n",
    "\n",
    "# Load the tokenizer\n",
    "with open('tokenizer.pkl', 'rb') as handle:\n",
    "    tokenizer = pickle.load(handle)\n",
    "\n",
    "# Preprocessing function (from your notebook's clean_text + lemmatization/stopwords if used)\n",
    "def clean_text(text):\n",
    "    text = text.lower()\n",
    "    text = re.sub(r'<[^>]+>', '', text)  # Remove HTML\n",
    "    text = re.sub(r'@\\w+|[(d)]|@ \\w+', '', text)  # Remove mentions\n",
    "    text = re.sub(r'http\\w+', '', text)  # Remove URLs\n",
    "    text = re.sub(r'\\s+', ' ', text)  # Remove extra spaces\n",
    "    text = re.sub(r'[(?!)|(+%)|(*)]|[_]|[$]|[:)]', '', text)  # Remove special chars\n",
    "    text = re.sub(r'(\\.)|(\\;)|(\\:)|(\\')|(\\,)|(\\\")|(\\()|(\\))|(\\[)|(\\])|(~)|(\\d+)|(-)|(//)|(/)', '', text)\n",
    "    return text\n",
    "\n",
    "\n",
    "# Prediction function\n",
    "def predict_sentiment(text):\n",
    "    cleaned = clean_text(text)\n",
    "    sequence = tokenizer.texts_to_sequences([cleaned])\n",
    "    padded = pad_sequences(sequence, maxlen=25)  # Adjust maxlen to match your training (check notebook)\n",
    "    prediction = model.predict(padded)[0]\n",
    "    labels = ['Negative', 'Positive', 'Neutral']  \n",
    "    return labels[prediction.argmax()]\n",
    "\n",
    "# Gradio interface\n",
    "demo = gr.Interface(\n",
    "    fn=predict_sentiment,\n",
    "    inputs=gr.Textbox(label=\"Enter Twitter Text\"),\n",
    "    outputs=gr.Textbox(label=\"Predicted Sentiment\"),\n",
    "    title=\"Twitter Sentiment Analysis\",\n",
    "    description=\"Enter text to predict sentiment (Negative, Positive, Neutral).\"\n",
    ")\n",
    "\n",
    "demo.launch()"
   ]
  },
  {
   "cell_type": "code",
   "execution_count": null,
   "id": "23c65fb8-0467-4aff-9235-49e9731a25ae",
   "metadata": {},
   "outputs": [],
   "source": []
  }
 ],
 "metadata": {
  "kernelspec": {
   "display_name": "MyNewVenv",
   "language": "python",
   "name": "mynewvenv"
  },
  "language_info": {
   "codemirror_mode": {
    "name": "ipython",
    "version": 3
   },
   "file_extension": ".py",
   "mimetype": "text/x-python",
   "name": "python",
   "nbconvert_exporter": "python",
   "pygments_lexer": "ipython3",
   "version": "3.10.5"
  }
 },
 "nbformat": 4,
 "nbformat_minor": 5
}
